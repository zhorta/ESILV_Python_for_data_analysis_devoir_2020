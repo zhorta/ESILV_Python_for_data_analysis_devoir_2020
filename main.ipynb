{
 "cells": [
  {
   "cell_type": "code",
   "execution_count": 2,
   "outputs": [
    {
     "name": "stdout",
     "text": [
      "Requirement already satisfied: pandas in /Users/zoehorta/opt/anaconda3/lib/python3.7/site-packages (0.25.1)\r\n",
      "Requirement already satisfied: python-dateutil>=2.6.1 in /Users/zoehorta/opt/anaconda3/lib/python3.7/site-packages (from pandas) (2.8.0)\r\n",
      "Requirement already satisfied: numpy>=1.13.3 in /Users/zoehorta/opt/anaconda3/lib/python3.7/site-packages (from pandas) (1.17.2)\r\n",
      "Requirement already satisfied: pytz>=2017.2 in /Users/zoehorta/opt/anaconda3/lib/python3.7/site-packages (from pandas) (2019.3)\r\n",
      "Requirement already satisfied: six>=1.5 in /Users/zoehorta/opt/anaconda3/lib/python3.7/site-packages (from python-dateutil>=2.6.1->pandas) (1.12.0)\r\n"
     ],
     "output_type": "stream"
    }
   ],
   "source": [
    "import os\n",
    "!pip install pandas"
   ],
   "metadata": {
    "collapsed": false,
    "pycharm": {
     "name": "#%%\n",
     "is_executing": false
    }
   }
  },
  {
   "cell_type": "code",
   "execution_count": 3,
   "outputs": [],
   "source": [
    "import pandas as pd"
   ],
   "metadata": {
    "collapsed": false,
    "pycharm": {
     "name": "#%%\n",
     "is_executing": false
    }
   }
  },
  {
   "cell_type": "markdown",
   "source": [
    "# Importing the dataset (Smartphone-Based Recognition of Human Activities and Postural Transitions)"
   ],
   "metadata": {
    "collapsed": false
   }
  },
  {
   "cell_type": "code",
   "execution_count": 23,
   "outputs": [],
   "source": [
    "with open('resources/HAPT Data Set/features.txt', 'r') as f:\n",
    "    names = f.readlines()\n",
    "columns_names = []\n",
    "for name in names: # removes \" \\n\" at the end of the column's name\n",
    "    name = name.strip()\n",
    "    columns_names.append(name)\n"
   ],
   "metadata": {
    "collapsed": false,
    "pycharm": {
     "name": "#%%\n",
     "is_executing": false
    }
   }
  },
  {
   "cell_type": "markdown",
   "source": [
    "## Cleaning the columns' names\n",
    "\n",
    "When I tried to add the columns_name array as a parameter of the X_train DataFrame, an error occured. \"ValueError: Duplicate names are not allowed.\" I looked into the data and found out that all the variables regarding the entropy (ending with ropy-1) of a feature have the same name. I am going to name them, feture_name-tropy-n (n in [1, 2, 3])."
   ],
   "metadata": {
    "collapsed": false,
    "pycharm": {
     "name": "#%% md\n"
    }
   }
  },
  {
   "cell_type": "code",
   "execution_count": 43,
   "outputs": [
    {
     "name": "stdout",
     "text": [
      "['fBodyAcc-Skewness-1', 'fBodyAcc-Kurtosis-1', 'fBodyAccJerk-Skewness-1', 'fBodyAccJerk-Kurtosis-1', 'fBodyGyro-Skewness-1', 'fBodyGyro-Kurtosis-1']\n",
      "tBodyAcc-ropy-1\n",
      "tGravityAcc-ropy-1\n",
      "tBodyAccJerk-ropy-1\n",
      "tBodyGyro-ropy-1\n",
      "tBodyGyroJerk-ropy-1\n",
      "tBodyAccMag-ropy-1\n",
      "tGravityAccMag-ropy-1\n",
      "tBodyAccJerkMag-ropy-1\n",
      "tBodyGyroMag-ropy-1\n",
      "tBodyGyroJerkMag-ropy-1\n",
      "fBodyAcc-ropy-1\n",
      "fBodyAccJerk-ropy-1\n",
      "fBodyGyro-ropy-1\n",
      "fBodyAccMag-ropy-1\n",
      "fBodyAccJerkMag-ropy-1\n",
      "fBodyGyroMag-ropy-1\n",
      "fBodyGyroJerkMag-ropy-1\n",
      "['tBodyAcc-Mean-1', 'tBodyAcc-Mean-2', 'tBodyAcc-Mean-3', 'tBodyAcc-STD-1', 'tBodyAcc-STD-2', 'tBodyAcc-STD-3', 'tBodyAcc-Mad-1', 'tBodyAcc-Mad-2', 'tBodyAcc-Mad-3', 'tBodyAcc-Max-1', 'tBodyAcc-Max-2', 'tBodyAcc-Max-3', 'tBodyAcc-Min-1', 'tBodyAcc-Min-2', 'tBodyAcc-Min-3', 'tBodyAcc-SMA-1', 'tBodyAcc-Energy-1', 'tBodyAcc-Energy-2', 'tBodyAcc-Energy-3', 'tBodyAcc-IQR-1', 'tBodyAcc-IQR-2', 'tBodyAcc-IQR-3', 'tBodyAcc-ropy-1', 'tBodyAcc-ropy-2', 'tBodyAcc-ropy-3', 'tBodyAcc-ARCoeff-1', 'tBodyAcc-ARCoeff-2', 'tBodyAcc-ARCoeff-3', 'tBodyAcc-ARCoeff-4', 'tBodyAcc-ARCoeff-5', 'tBodyAcc-ARCoeff-6', 'tBodyAcc-ARCoeff-7', 'tBodyAcc-ARCoeff-8', 'tBodyAcc-ARCoeff-9', 'tBodyAcc-ARCoeff-10', 'tBodyAcc-ARCoeff-11', 'tBodyAcc-ARCoeff-12', 'tBodyAcc-Correlation-1', 'tBodyAcc-Correlation-2', 'tBodyAcc-Correlation-3', 'tGravityAcc-Mean-1', 'tGravityAcc-Mean-2', 'tGravityAcc-Mean-3', 'tGravityAcc-STD-1', 'tGravityAcc-STD-2', 'tGravityAcc-STD-3', 'tGravityAcc-Mad-1', 'tGravityAcc-Mad-2', 'tGravityAcc-Mad-3', 'tGravityAcc-Max-1', 'tGravityAcc-Max-2', 'tGravityAcc-Max-3', 'tGravityAcc-Min-1', 'tGravityAcc-Min-2', 'tGravityAcc-Min-3', 'tGravityAcc-SMA-1', 'tGravityAcc-Energy-1', 'tGravityAcc-Energy-2', 'tGravityAcc-Energy-3', 'tGravityAcc-IQR-1', 'tGravityAcc-IQR-2', 'tGravityAcc-IQR-3', 'tGravityAcc-ropy-1', 'tGravityAcc-ropy-2', 'tGravityAcc-ropy-3', 'tGravityAcc-ARCoeff-1', 'tGravityAcc-ARCoeff-2', 'tGravityAcc-ARCoeff-3', 'tGravityAcc-ARCoeff-4', 'tGravityAcc-ARCoeff-5', 'tGravityAcc-ARCoeff-6', 'tGravityAcc-ARCoeff-7', 'tGravityAcc-ARCoeff-8', 'tGravityAcc-ARCoeff-9', 'tGravityAcc-ARCoeff-10', 'tGravityAcc-ARCoeff-11', 'tGravityAcc-ARCoeff-12', 'tGravityAcc-Correlation-1', 'tGravityAcc-Correlation-2', 'tGravityAcc-Correlation-3', 'tBodyAccJerk-Mean-1', 'tBodyAccJerk-Mean-2', 'tBodyAccJerk-Mean-3', 'tBodyAccJerk-STD-1', 'tBodyAccJerk-STD-2', 'tBodyAccJerk-STD-3', 'tBodyAccJerk-Mad-1', 'tBodyAccJerk-Mad-2', 'tBodyAccJerk-Mad-3', 'tBodyAccJerk-Max-1', 'tBodyAccJerk-Max-2', 'tBodyAccJerk-Max-3', 'tBodyAccJerk-Min-1', 'tBodyAccJerk-Min-2', 'tBodyAccJerk-Min-3', 'tBodyAccJerk-SMA-1', 'tBodyAccJerk-Energy-1', 'tBodyAccJerk-Energy-2', 'tBodyAccJerk-Energy-3', 'tBodyAccJerk-IQR-1', 'tBodyAccJerk-IQR-2', 'tBodyAccJerk-IQR-3', 'tBodyAccJerk-ropy-1', 'tBodyAccJerk-ropy-2', 'tBodyAccJerk-ropy-3', 'tBodyAccJerk-ARCoeff-1', 'tBodyAccJerk-ARCoeff-2', 'tBodyAccJerk-ARCoeff-3', 'tBodyAccJerk-ARCoeff-4', 'tBodyAccJerk-ARCoeff-5', 'tBodyAccJerk-ARCoeff-6', 'tBodyAccJerk-ARCoeff-7', 'tBodyAccJerk-ARCoeff-8', 'tBodyAccJerk-ARCoeff-9', 'tBodyAccJerk-ARCoeff-10', 'tBodyAccJerk-ARCoeff-11', 'tBodyAccJerk-ARCoeff-12', 'tBodyAccJerk-Correlation-1', 'tBodyAccJerk-Correlation-2', 'tBodyAccJerk-Correlation-3', 'tBodyGyro-Mean-1', 'tBodyGyro-Mean-2', 'tBodyGyro-Mean-3', 'tBodyGyro-STD-1', 'tBodyGyro-STD-2', 'tBodyGyro-STD-3', 'tBodyGyro-Mad-1', 'tBodyGyro-Mad-2', 'tBodyGyro-Mad-3', 'tBodyGyro-Max-1', 'tBodyGyro-Max-2', 'tBodyGyro-Max-3', 'tBodyGyro-Min-1', 'tBodyGyro-Min-2', 'tBodyGyro-Min-3', 'tBodyGyro-SMA-1', 'tBodyGyro-Energy-1', 'tBodyGyro-Energy-2', 'tBodyGyro-Energy-3', 'tBodyGyro-IQR-1', 'tBodyGyro-IQR-2', 'tBodyGyro-IQR-3', 'tBodyGyro-ropy-1', 'tBodyGyro-ropy-2', 'tBodyGyro-ropy-3', 'tBodyGyro-ARCoeff-1', 'tBodyGyro-ARCoeff-2', 'tBodyGyro-ARCoeff-3', 'tBodyGyro-ARCoeff-4', 'tBodyGyro-ARCoeff-5', 'tBodyGyro-ARCoeff-6', 'tBodyGyro-ARCoeff-7', 'tBodyGyro-ARCoeff-8', 'tBodyGyro-ARCoeff-9', 'tBodyGyro-ARCoeff-10', 'tBodyGyro-ARCoeff-11', 'tBodyGyro-ARCoeff-12', 'tBodyGyro-Correlation-1', 'tBodyGyro-Correlation-2', 'tBodyGyro-Correlation-3', 'tBodyGyroJerk-Mean-1', 'tBodyGyroJerk-Mean-2', 'tBodyGyroJerk-Mean-3', 'tBodyGyroJerk-STD-1', 'tBodyGyroJerk-STD-2', 'tBodyGyroJerk-STD-3', 'tBodyGyroJerk-Mad-1', 'tBodyGyroJerk-Mad-2', 'tBodyGyroJerk-Mad-3', 'tBodyGyroJerk-Max-1', 'tBodyGyroJerk-Max-2', 'tBodyGyroJerk-Max-3', 'tBodyGyroJerk-Min-1', 'tBodyGyroJerk-Min-2', 'tBodyGyroJerk-Min-3', 'tBodyGyroJerk-SMA-1', 'tBodyGyroJerk-Energy-1', 'tBodyGyroJerk-Energy-2', 'tBodyGyroJerk-Energy-3', 'tBodyGyroJerk-IQR-1', 'tBodyGyroJerk-IQR-2', 'tBodyGyroJerk-IQR-3', 'tBodyGyroJerk-ropy-1', 'tBodyGyroJerk-ropy-2', 'tBodyGyroJerk-ropy-3', 'tBodyGyroJerk-ARCoeff-1', 'tBodyGyroJerk-ARCoeff-2', 'tBodyGyroJerk-ARCoeff-3', 'tBodyGyroJerk-ARCoeff-4', 'tBodyGyroJerk-ARCoeff-5', 'tBodyGyroJerk-ARCoeff-6', 'tBodyGyroJerk-ARCoeff-7', 'tBodyGyroJerk-ARCoeff-8', 'tBodyGyroJerk-ARCoeff-9', 'tBodyGyroJerk-ARCoeff-10', 'tBodyGyroJerk-ARCoeff-11', 'tBodyGyroJerk-ARCoeff-12', 'tBodyGyroJerk-Correlation-1', 'tBodyGyroJerk-Correlation-2', 'tBodyGyroJerk-Correlation-3', 'tBodyAccMag-Mean-1', 'tBodyAccMag-STD-1', 'tBodyAccMag-Mad-1', 'tBodyAccMag-Max-1', 'tBodyAccMag-Min-1', 'tBodyAccMag-SMA-1', 'tBodyAccMag-Energy-1', 'tBodyAccMag-IQR-1', 'tBodyAccMag-ropy-1', 'tBodyAccMag-ARCoeff-1', 'tBodyAccMag-ARCoeff-2', 'tBodyAccMag-ARCoeff-3', 'tBodyAccMag-ARCoeff-4', 'tGravityAccMag-Mean-1', 'tGravityAccMag-STD-1', 'tGravityAccMag-Mad-1', 'tGravityAccMag-Max-1', 'tGravityAccMag-Min-1', 'tGravityAccMag-SMA-1', 'tGravityAccMag-Energy-1', 'tGravityAccMag-IQR-1', 'tGravityAccMag-ropy-1', 'tGravityAccMag-ARCoeff-1', 'tGravityAccMag-ARCoeff-2', 'tGravityAccMag-ARCoeff-3', 'tGravityAccMag-ARCoeff-4', 'tBodyAccJerkMag-Mean-1', 'tBodyAccJerkMag-STD-1', 'tBodyAccJerkMag-Mad-1', 'tBodyAccJerkMag-Max-1', 'tBodyAccJerkMag-Min-1', 'tBodyAccJerkMag-SMA-1', 'tBodyAccJerkMag-Energy-1', 'tBodyAccJerkMag-IQR-1', 'tBodyAccJerkMag-ropy-1', 'tBodyAccJerkMag-ARCoeff-1', 'tBodyAccJerkMag-ARCoeff-2', 'tBodyAccJerkMag-ARCoeff-3', 'tBodyAccJerkMag-ARCoeff-4', 'tBodyGyroMag-Mean-1', 'tBodyGyroMag-STD-1', 'tBodyGyroMag-Mad-1', 'tBodyGyroMag-Max-1', 'tBodyGyroMag-Min-1', 'tBodyGyroMag-SMA-1', 'tBodyGyroMag-Energy-1', 'tBodyGyroMag-IQR-1', 'tBodyGyroMag-ropy-1', 'tBodyGyroMag-ARCoeff-1', 'tBodyGyroMag-ARCoeff-2', 'tBodyGyroMag-ARCoeff-3', 'tBodyGyroMag-ARCoeff-4', 'tBodyGyroJerkMag-Mean-1', 'tBodyGyroJerkMag-STD-1', 'tBodyGyroJerkMag-Mad-1', 'tBodyGyroJerkMag-Max-1', 'tBodyGyroJerkMag-Min-1', 'tBodyGyroJerkMag-SMA-1', 'tBodyGyroJerkMag-Energy-1', 'tBodyGyroJerkMag-IQR-1', 'tBodyGyroJerkMag-ropy-1', 'tBodyGyroJerkMag-ARCoeff-1', 'tBodyGyroJerkMag-ARCoeff-2', 'tBodyGyroJerkMag-ARCoeff-3', 'tBodyGyroJerkMag-ARCoeff-4', 'fBodyAcc-Mean-1', 'fBodyAcc-Mean-2', 'fBodyAcc-Mean-3', 'fBodyAcc-STD-1', 'fBodyAcc-STD-2', 'fBodyAcc-STD-3', 'fBodyAcc-Mad-1', 'fBodyAcc-Mad-2', 'fBodyAcc-Mad-3', 'fBodyAcc-Max-1', 'fBodyAcc-Max-2', 'fBodyAcc-Max-3', 'fBodyAcc-Min-1', 'fBodyAcc-Min-2', 'fBodyAcc-Min-3', 'fBodyAcc-SMA-1', 'fBodyAcc-Energy-1', 'fBodyAcc-Energy-2', 'fBodyAcc-Energy-3', 'fBodyAcc-IQR-1', 'fBodyAcc-IQR-2', 'fBodyAcc-IQR-3', 'fBodyAcc-ropy-1', 'fBodyAcc-ropy-2', 'fBodyAcc-ropy-3', 'fBodyAcc-MaxInds-1', 'fBodyAcc-MaxInds-2', 'fBodyAcc-MaxInds-3', 'fBodyAcc-MeanFreq-1', 'fBodyAcc-MeanFreq-2', 'fBodyAcc-MeanFreq-3', 'fBodyAcc-Skewness-1', 'fBodyAcc-Kurtosis-1', 'fBodyAcc-Skewness-1', 'fBodyAcc-Kurtosis-1', 'fBodyAcc-Skewness-1', 'fBodyAcc-Kurtosis-1', 'fBodyAcc-BandsEnergyOld-1', 'fBodyAcc-BandsEnergyOld-2', 'fBodyAcc-BandsEnergyOld-3', 'fBodyAcc-BandsEnergyOld-4', 'fBodyAcc-BandsEnergyOld-5', 'fBodyAcc-BandsEnergyOld-6', 'fBodyAcc-BandsEnergyOld-7', 'fBodyAcc-BandsEnergyOld-8', 'fBodyAcc-BandsEnergyOld-9', 'fBodyAcc-BandsEnergyOld-10', 'fBodyAcc-BandsEnergyOld-11', 'fBodyAcc-BandsEnergyOld-12', 'fBodyAcc-BandsEnergyOld-13', 'fBodyAcc-BandsEnergyOld-14', 'fBodyAcc-BandsEnergyOld-15', 'fBodyAcc-BandsEnergyOld-16', 'fBodyAcc-BandsEnergyOld-17', 'fBodyAcc-BandsEnergyOld-18', 'fBodyAcc-BandsEnergyOld-19', 'fBodyAcc-BandsEnergyOld-20', 'fBodyAcc-BandsEnergyOld-21', 'fBodyAcc-BandsEnergyOld-22', 'fBodyAcc-BandsEnergyOld-23', 'fBodyAcc-BandsEnergyOld-24', 'fBodyAcc-BandsEnergyOld-25', 'fBodyAcc-BandsEnergyOld-26', 'fBodyAcc-BandsEnergyOld-27', 'fBodyAcc-BandsEnergyOld-28', 'fBodyAcc-BandsEnergyOld-29', 'fBodyAcc-BandsEnergyOld-30', 'fBodyAcc-BandsEnergyOld-31', 'fBodyAcc-BandsEnergyOld-32', 'fBodyAcc-BandsEnergyOld-33', 'fBodyAcc-BandsEnergyOld-34', 'fBodyAcc-BandsEnergyOld-35', 'fBodyAcc-BandsEnergyOld-36', 'fBodyAcc-BandsEnergyOld-37', 'fBodyAcc-BandsEnergyOld-38', 'fBodyAcc-BandsEnergyOld-39', 'fBodyAcc-BandsEnergyOld-40', 'fBodyAcc-BandsEnergyOld-41', 'fBodyAcc-BandsEnergyOld-42', 'fBodyAccJerk-Mean-1', 'fBodyAccJerk-Mean-2', 'fBodyAccJerk-Mean-3', 'fBodyAccJerk-STD-1', 'fBodyAccJerk-STD-2', 'fBodyAccJerk-STD-3', 'fBodyAccJerk-Mad-1', 'fBodyAccJerk-Mad-2', 'fBodyAccJerk-Mad-3', 'fBodyAccJerk-Max-1', 'fBodyAccJerk-Max-2', 'fBodyAccJerk-Max-3', 'fBodyAccJerk-Min-1', 'fBodyAccJerk-Min-2', 'fBodyAccJerk-Min-3', 'fBodyAccJerk-SMA-1', 'fBodyAccJerk-Energy-1', 'fBodyAccJerk-Energy-2', 'fBodyAccJerk-Energy-3', 'fBodyAccJerk-IQR-1', 'fBodyAccJerk-IQR-2', 'fBodyAccJerk-IQR-3', 'fBodyAccJerk-ropy-1', 'fBodyAccJerk-ropy-2', 'fBodyAccJerk-ropy-3', 'fBodyAccJerk-MaxInds-1', 'fBodyAccJerk-MaxInds-2', 'fBodyAccJerk-MaxInds-3', 'fBodyAccJerk-MeanFreq-1', 'fBodyAccJerk-MeanFreq-2', 'fBodyAccJerk-MeanFreq-3', 'fBodyAccJerk-Skewness-1', 'fBodyAccJerk-Kurtosis-1', 'fBodyAccJerk-Skewness-1', 'fBodyAccJerk-Kurtosis-1', 'fBodyAccJerk-Skewness-1', 'fBodyAccJerk-Kurtosis-1', 'fBodyAccJerk-BandsEnergyOld-1', 'fBodyAccJerk-BandsEnergyOld-2', 'fBodyAccJerk-BandsEnergyOld-3', 'fBodyAccJerk-BandsEnergyOld-4', 'fBodyAccJerk-BandsEnergyOld-5', 'fBodyAccJerk-BandsEnergyOld-6', 'fBodyAccJerk-BandsEnergyOld-7', 'fBodyAccJerk-BandsEnergyOld-8', 'fBodyAccJerk-BandsEnergyOld-9', 'fBodyAccJerk-BandsEnergyOld-10', 'fBodyAccJerk-BandsEnergyOld-11', 'fBodyAccJerk-BandsEnergyOld-12', 'fBodyAccJerk-BandsEnergyOld-13', 'fBodyAccJerk-BandsEnergyOld-14', 'fBodyAccJerk-BandsEnergyOld-15', 'fBodyAccJerk-BandsEnergyOld-16', 'fBodyAccJerk-BandsEnergyOld-17', 'fBodyAccJerk-BandsEnergyOld-18', 'fBodyAccJerk-BandsEnergyOld-19', 'fBodyAccJerk-BandsEnergyOld-20', 'fBodyAccJerk-BandsEnergyOld-21', 'fBodyAccJerk-BandsEnergyOld-22', 'fBodyAccJerk-BandsEnergyOld-23', 'fBodyAccJerk-BandsEnergyOld-24', 'fBodyAccJerk-BandsEnergyOld-25', 'fBodyAccJerk-BandsEnergyOld-26', 'fBodyAccJerk-BandsEnergyOld-27', 'fBodyAccJerk-BandsEnergyOld-28', 'fBodyAccJerk-BandsEnergyOld-29', 'fBodyAccJerk-BandsEnergyOld-30', 'fBodyAccJerk-BandsEnergyOld-31', 'fBodyAccJerk-BandsEnergyOld-32', 'fBodyAccJerk-BandsEnergyOld-33', 'fBodyAccJerk-BandsEnergyOld-34', 'fBodyAccJerk-BandsEnergyOld-35', 'fBodyAccJerk-BandsEnergyOld-36', 'fBodyAccJerk-BandsEnergyOld-37', 'fBodyAccJerk-BandsEnergyOld-38', 'fBodyAccJerk-BandsEnergyOld-39', 'fBodyAccJerk-BandsEnergyOld-40', 'fBodyAccJerk-BandsEnergyOld-41', 'fBodyAccJerk-BandsEnergyOld-42', 'fBodyGyro-Mean-1', 'fBodyGyro-Mean-2', 'fBodyGyro-Mean-3', 'fBodyGyro-STD-1', 'fBodyGyro-STD-2', 'fBodyGyro-STD-3', 'fBodyGyro-Mad-1', 'fBodyGyro-Mad-2', 'fBodyGyro-Mad-3', 'fBodyGyro-Max-1', 'fBodyGyro-Max-2', 'fBodyGyro-Max-3', 'fBodyGyro-Min-1', 'fBodyGyro-Min-2', 'fBodyGyro-Min-3', 'fBodyGyro-SMA-1', 'fBodyGyro-Energy-1', 'fBodyGyro-Energy-2', 'fBodyGyro-Energy-3', 'fBodyGyro-IQR-1', 'fBodyGyro-IQR-2', 'fBodyGyro-IQR-3', 'fBodyGyro-ropy-1', 'fBodyGyro-ropy-2', 'fBodyGyro-ropy-3', 'fBodyGyro-MaxInds-1', 'fBodyGyro-MaxInds-2', 'fBodyGyro-MaxInds-3', 'fBodyGyro-MeanFreq-1', 'fBodyGyro-MeanFreq-2', 'fBodyGyro-MeanFreq-3', 'fBodyGyro-Skewness-1', 'fBodyGyro-Kurtosis-1', 'fBodyGyro-Skewness-1', 'fBodyGyro-Kurtosis-1', 'fBodyGyro-Skewness-1', 'fBodyGyro-Kurtosis-1', 'fBodyGyro-BandsEnergyOld-1', 'fBodyGyro-BandsEnergyOld-2', 'fBodyGyro-BandsEnergyOld-3', 'fBodyGyro-BandsEnergyOld-4', 'fBodyGyro-BandsEnergyOld-5', 'fBodyGyro-BandsEnergyOld-6', 'fBodyGyro-BandsEnergyOld-7', 'fBodyGyro-BandsEnergyOld-8', 'fBodyGyro-BandsEnergyOld-9', 'fBodyGyro-BandsEnergyOld-10', 'fBodyGyro-BandsEnergyOld-11', 'fBodyGyro-BandsEnergyOld-12', 'fBodyGyro-BandsEnergyOld-13', 'fBodyGyro-BandsEnergyOld-14', 'fBodyGyro-BandsEnergyOld-15', 'fBodyGyro-BandsEnergyOld-16', 'fBodyGyro-BandsEnergyOld-17', 'fBodyGyro-BandsEnergyOld-18', 'fBodyGyro-BandsEnergyOld-19', 'fBodyGyro-BandsEnergyOld-20', 'fBodyGyro-BandsEnergyOld-21', 'fBodyGyro-BandsEnergyOld-22', 'fBodyGyro-BandsEnergyOld-23', 'fBodyGyro-BandsEnergyOld-24', 'fBodyGyro-BandsEnergyOld-25', 'fBodyGyro-BandsEnergyOld-26', 'fBodyGyro-BandsEnergyOld-27', 'fBodyGyro-BandsEnergyOld-28', 'fBodyGyro-BandsEnergyOld-29', 'fBodyGyro-BandsEnergyOld-30', 'fBodyGyro-BandsEnergyOld-31', 'fBodyGyro-BandsEnergyOld-32', 'fBodyGyro-BandsEnergyOld-33', 'fBodyGyro-BandsEnergyOld-34', 'fBodyGyro-BandsEnergyOld-35', 'fBodyGyro-BandsEnergyOld-36', 'fBodyGyro-BandsEnergyOld-37', 'fBodyGyro-BandsEnergyOld-38', 'fBodyGyro-BandsEnergyOld-39', 'fBodyGyro-BandsEnergyOld-40', 'fBodyGyro-BandsEnergyOld-41', 'fBodyGyro-BandsEnergyOld-42', 'fBodyAccMag-Mean-1', 'fBodyAccMag-STD-1', 'fBodyAccMag-Mad-1', 'fBodyAccMag-Max-1', 'fBodyAccMag-Min-1', 'fBodyAccMag-SMA-1', 'fBodyAccMag-Energy-1', 'fBodyAccMag-IQR-1', 'fBodyAccMag-ropy-1', 'fBodyAccMag-MaxInds-1', 'fBodyAccMag-MeanFreq-1', 'fBodyAccMag-Skewness-1', 'fBodyAccMag-Kurtosis-1', 'fBodyAccJerkMag-Mean-1', 'fBodyAccJerkMag-STD-1', 'fBodyAccJerkMag-Mad-1', 'fBodyAccJerkMag-Max-1', 'fBodyAccJerkMag-Min-1', 'fBodyAccJerkMag-SMA-1', 'fBodyAccJerkMag-Energy-1', 'fBodyAccJerkMag-IQR-1', 'fBodyAccJerkMag-ropy-1', 'fBodyAccJerkMag-MaxInds-1', 'fBodyAccJerkMag-MeanFreq-1', 'fBodyAccJerkMag-Skewness-1', 'fBodyAccJerkMag-Kurtosis-1', 'fBodyGyroMag-Mean-1', 'fBodyGyroMag-STD-1', 'fBodyGyroMag-Mad-1', 'fBodyGyroMag-Max-1', 'fBodyGyroMag-Min-1', 'fBodyGyroMag-SMA-1', 'fBodyGyroMag-Energy-1', 'fBodyGyroMag-IQR-1', 'fBodyGyroMag-ropy-1', 'fBodyGyroMag-MaxInds-1', 'fBodyGyroMag-MeanFreq-1', 'fBodyGyroMag-Skewness-1', 'fBodyGyroMag-Kurtosis-1', 'fBodyGyroJerkMag-Mean-1', 'fBodyGyroJerkMag-STD-1', 'fBodyGyroJerkMag-Mad-1', 'fBodyGyroJerkMag-Max-1', 'fBodyGyroJerkMag-Min-1', 'fBodyGyroJerkMag-SMA-1', 'fBodyGyroJerkMag-Energy-1', 'fBodyGyroJerkMag-IQR-1', 'fBodyGyroJerkMag-ropy-1', 'fBodyGyroJerkMag-MaxInds-1', 'fBodyGyroJerkMag-MeanFreq-1', 'fBodyGyroJerkMag-Skewness-1', 'fBodyGyroJerkMag-Kurtosis-1', 'tBodyAcc-AngleWRTGravity-1', 'tBodyAccJerk-AngleWRTGravity-1', 'tBodyGyro-AngleWRTGravity-1', 'tBodyGyroJerk-AngleWRTGravity-1', 'tXAxisAcc-AngleWRTGravity-1', 'tYAxisAcc-AngleWRTGravity-1', 'tZAxisAcc-AngleWRTGravity-1']\n"
     ],
     "output_type": "stream"
    },
    {
     "traceback": [
      "\u001b[0;31m---------------------------------------------------------------------------\u001b[0m",
      "\u001b[0;31mValueError\u001b[0m                                Traceback (most recent call last)",
      "\u001b[0;32m<ipython-input-43-6532b8da9e2b>\u001b[0m in \u001b[0;36m<module>\u001b[0;34m\u001b[0m\n\u001b[1;32m     30\u001b[0m \u001b[0mprint\u001b[0m\u001b[0;34m(\u001b[0m\u001b[0mcolumns_names\u001b[0m\u001b[0;34m)\u001b[0m\u001b[0;34m\u001b[0m\u001b[0;34m\u001b[0m\u001b[0m\n\u001b[1;32m     31\u001b[0m \u001b[0;34m\u001b[0m\u001b[0m\n\u001b[0;32m---> 32\u001b[0;31m \u001b[0mX_train\u001b[0m \u001b[0;34m=\u001b[0m \u001b[0mpd\u001b[0m\u001b[0;34m.\u001b[0m\u001b[0mread_table\u001b[0m\u001b[0;34m(\u001b[0m\u001b[0;34m\"resources/HAPT Data Set/Train/X_train.txt\"\u001b[0m\u001b[0;34m,\u001b[0m \u001b[0mdelimiter\u001b[0m\u001b[0;34m=\u001b[0m\u001b[0;34m\" \"\u001b[0m\u001b[0;34m,\u001b[0m \u001b[0mnames\u001b[0m\u001b[0;34m=\u001b[0m\u001b[0mcolumns_names\u001b[0m\u001b[0;34m)\u001b[0m\u001b[0;34m\u001b[0m\u001b[0;34m\u001b[0m\u001b[0m\n\u001b[0m\u001b[1;32m     33\u001b[0m \u001b[0;34m\u001b[0m\u001b[0m\n\u001b[1;32m     34\u001b[0m \u001b[0;34m\u001b[0m\u001b[0m\n",
      "\u001b[0;32m/Library/Frameworks/Python.framework/Versions/3.7/lib/python3.7/site-packages/pandas/io/parsers.py\u001b[0m in \u001b[0;36mparser_f\u001b[0;34m(filepath_or_buffer, sep, delimiter, header, names, index_col, usecols, squeeze, prefix, mangle_dupe_cols, dtype, engine, converters, true_values, false_values, skipinitialspace, skiprows, skipfooter, nrows, na_values, keep_default_na, na_filter, verbose, skip_blank_lines, parse_dates, infer_datetime_format, keep_date_col, date_parser, dayfirst, cache_dates, iterator, chunksize, compression, thousands, decimal, lineterminator, quotechar, quoting, doublequote, escapechar, comment, encoding, dialect, error_bad_lines, warn_bad_lines, delim_whitespace, low_memory, memory_map, float_precision)\u001b[0m\n\u001b[1;32m    683\u001b[0m         )\n\u001b[1;32m    684\u001b[0m \u001b[0;34m\u001b[0m\u001b[0m\n\u001b[0;32m--> 685\u001b[0;31m         \u001b[0;32mreturn\u001b[0m \u001b[0m_read\u001b[0m\u001b[0;34m(\u001b[0m\u001b[0mfilepath_or_buffer\u001b[0m\u001b[0;34m,\u001b[0m \u001b[0mkwds\u001b[0m\u001b[0;34m)\u001b[0m\u001b[0;34m\u001b[0m\u001b[0;34m\u001b[0m\u001b[0m\n\u001b[0m\u001b[1;32m    686\u001b[0m \u001b[0;34m\u001b[0m\u001b[0m\n\u001b[1;32m    687\u001b[0m     \u001b[0mparser_f\u001b[0m\u001b[0;34m.\u001b[0m\u001b[0m__name__\u001b[0m \u001b[0;34m=\u001b[0m \u001b[0mname\u001b[0m\u001b[0;34m\u001b[0m\u001b[0;34m\u001b[0m\u001b[0m\n",
      "\u001b[0;32m/Library/Frameworks/Python.framework/Versions/3.7/lib/python3.7/site-packages/pandas/io/parsers.py\u001b[0m in \u001b[0;36m_read\u001b[0;34m(filepath_or_buffer, kwds)\u001b[0m\n\u001b[1;32m    452\u001b[0m \u001b[0;34m\u001b[0m\u001b[0m\n\u001b[1;32m    453\u001b[0m     \u001b[0;31m# Check for duplicates in names.\u001b[0m\u001b[0;34m\u001b[0m\u001b[0;34m\u001b[0m\u001b[0;34m\u001b[0m\u001b[0m\n\u001b[0;32m--> 454\u001b[0;31m     \u001b[0m_validate_names\u001b[0m\u001b[0;34m(\u001b[0m\u001b[0mkwds\u001b[0m\u001b[0;34m.\u001b[0m\u001b[0mget\u001b[0m\u001b[0;34m(\u001b[0m\u001b[0;34m\"names\"\u001b[0m\u001b[0;34m,\u001b[0m \u001b[0;32mNone\u001b[0m\u001b[0;34m)\u001b[0m\u001b[0;34m)\u001b[0m\u001b[0;34m\u001b[0m\u001b[0;34m\u001b[0m\u001b[0m\n\u001b[0m\u001b[1;32m    455\u001b[0m \u001b[0;34m\u001b[0m\u001b[0m\n\u001b[1;32m    456\u001b[0m     \u001b[0;31m# Create the parser.\u001b[0m\u001b[0;34m\u001b[0m\u001b[0;34m\u001b[0m\u001b[0;34m\u001b[0m\u001b[0m\n",
      "\u001b[0;32m/Library/Frameworks/Python.framework/Versions/3.7/lib/python3.7/site-packages/pandas/io/parsers.py\u001b[0m in \u001b[0;36m_validate_names\u001b[0;34m(names)\u001b[0m\n\u001b[1;32m    419\u001b[0m     \u001b[0;32mif\u001b[0m \u001b[0mnames\u001b[0m \u001b[0;32mis\u001b[0m \u001b[0;32mnot\u001b[0m \u001b[0;32mNone\u001b[0m\u001b[0;34m:\u001b[0m\u001b[0;34m\u001b[0m\u001b[0;34m\u001b[0m\u001b[0m\n\u001b[1;32m    420\u001b[0m         \u001b[0;32mif\u001b[0m \u001b[0mlen\u001b[0m\u001b[0;34m(\u001b[0m\u001b[0mnames\u001b[0m\u001b[0;34m)\u001b[0m \u001b[0;34m!=\u001b[0m \u001b[0mlen\u001b[0m\u001b[0;34m(\u001b[0m\u001b[0mset\u001b[0m\u001b[0;34m(\u001b[0m\u001b[0mnames\u001b[0m\u001b[0;34m)\u001b[0m\u001b[0;34m)\u001b[0m\u001b[0;34m:\u001b[0m\u001b[0;34m\u001b[0m\u001b[0;34m\u001b[0m\u001b[0m\n\u001b[0;32m--> 421\u001b[0;31m             \u001b[0;32mraise\u001b[0m \u001b[0mValueError\u001b[0m\u001b[0;34m(\u001b[0m\u001b[0;34m\"Duplicate names are not allowed.\"\u001b[0m\u001b[0;34m)\u001b[0m\u001b[0;34m\u001b[0m\u001b[0;34m\u001b[0m\u001b[0m\n\u001b[0m\u001b[1;32m    422\u001b[0m     \u001b[0;32mreturn\u001b[0m \u001b[0mnames\u001b[0m\u001b[0;34m\u001b[0m\u001b[0;34m\u001b[0m\u001b[0m\n\u001b[1;32m    423\u001b[0m \u001b[0;34m\u001b[0m\u001b[0m\n",
      "\u001b[0;31mValueError\u001b[0m: Duplicate names are not allowed."
     ],
     "ename": "ValueError",
     "evalue": "Duplicate names are not allowed.",
     "output_type": "error"
    }
   ],
   "source": [
    "def change_end(end_of_name, keep):\n",
    "    i = 2\n",
    "    name_before = ''\n",
    "    beginning_of_name = ''\n",
    "    for j in range(len(columns_names)):\n",
    "        if columns_names[j].endswith(end_of_name):\n",
    "            beginning_of_name = columns_names[j].split(\"-\")[0]\n",
    "            if beginning_of_name == name_before:\n",
    "                columns_names[j] = columns_names[j].replace(end_of_name, keep + str(i))\n",
    "                i += 1\n",
    "                name_before = beginning_of_name\n",
    "            else:\n",
    "                name_before = beginning_of_name\n",
    "                i = 2\n",
    "            print(columns_names[j])\n",
    "\n",
    "names_array = []\n",
    "pairs = []\n",
    "\n",
    "for name in columns_names:\n",
    "    if name not in names_array:\n",
    "        names_array.append(name)\n",
    "    elif name not in pairs:\n",
    "        pairs.append(name)\n",
    "    else:\n",
    "        pass\n",
    "print(pairs)\n",
    "\n",
    "change_end('ropy-1', 'ropy-')\n",
    "print(columns_names)\n",
    "\n",
    "X_train = pd.read_table(\"resources/HAPT Data Set/Train/X_train.txt\", delimiter=\" \", names=columns_names)\n",
    "\n",
    "\n",
    "train_df = pd.read_table(\"resources/HAPT Data Set/Train/X_train.txt\", delimiter=\" \")\n",
    "\n",
    "print(X_train.head())\n",
    "train_df.columns = [columns_names]\n",
    "train_df[\"Posture\"] = pd.read_table(\"resources/HAPT Data Set/Train/y_train.txt\")\n"
   ],
   "metadata": {
    "collapsed": false,
    "pycharm": {
     "name": "#%%\n",
     "is_executing": false
    }
   }
  },
  {
   "cell_type": "markdown",
   "source": [
    "## To have an idea of how the dataset looks like"
   ],
   "metadata": {
    "collapsed": false,
    "pycharm": {
     "name": "#%% md\n"
    }
   }
  },
  {
   "cell_type": "code",
   "execution_count": 11,
   "outputs": [
    {
     "name": "stdout",
     "text": [
      "  tBodyAcc-Mean-1               tBodyAcc-Mean-2                \\\n",
      "0                      0.039480                     -0.002131   \n",
      "1                      0.039978                     -0.005153   \n",
      "2                      0.039785                     -0.011809   \n",
      "3                      0.038758                     -0.002289   \n",
      "4                      0.038988                      0.004109   \n",
      "\n",
      "  tBodyAcc-Mean-3               tBodyAcc-STD-1                 \\\n",
      "0                     -0.029067                     -0.998348   \n",
      "1                     -0.022651                     -0.995482   \n",
      "2                     -0.028916                     -0.996194   \n",
      "3                     -0.023863                     -0.998241   \n",
      "4                     -0.017340                     -0.997438   \n",
      "\n",
      "  tBodyAcc-STD-2                tBodyAcc-STD-3                 \\\n",
      "0                     -0.982945                     -0.971273   \n",
      "1                     -0.977314                     -0.984760   \n",
      "2                     -0.988569                     -0.993256   \n",
      "3                     -0.986774                     -0.993115   \n",
      "4                     -0.993485                     -0.996692   \n",
      "\n",
      "  tBodyAcc-Mad-1                tBodyAcc-Mad-2                 \\\n",
      "0                     -0.998702                     -0.983315   \n",
      "1                     -0.996415                     -0.975835   \n",
      "2                     -0.996994                     -0.988526   \n",
      "3                     -0.998216                     -0.986479   \n",
      "4                     -0.997522                     -0.993494   \n",
      "\n",
      "  tBodyAcc-Mad-3                tBodyAcc-Max-1                 ...  \\\n",
      "0                     -0.974000                     -0.802537  ...   \n",
      "1                     -0.985973                     -0.798477  ...   \n",
      "2                     -0.993135                     -0.798477  ...   \n",
      "3                     -0.993825                     -0.801982  ...   \n",
      "4                     -0.996916                     -0.801982  ...   \n",
      "\n",
      "  fBodyGyroJerkMag-Skewness-1   fBodyGyroJerkMag-Kurtosis-1    \\\n",
      "0                     -0.603199                     -0.860677   \n",
      "1                     -0.404427                     -0.761847   \n",
      "2                     -0.138373                     -0.491604   \n",
      "3                     -0.366214                     -0.702490   \n",
      "4                     -0.554902                     -0.844224   \n",
      "\n",
      "  tBodyAcc-AngleWRTGravity-1    tBodyAccJerk-AngleWRTGravity-  \\\n",
      "0                      0.053477                     -0.007435   \n",
      "1                     -0.118559                      0.177899   \n",
      "2                     -0.036788                     -0.012892   \n",
      "3                      0.123320                      0.122542   \n",
      "4                      0.082632                     -0.143439   \n",
      "\n",
      "  tBodyGyro-AngleWRTGravity-1   tBodyGyroJerk-AngleWRTGravity  \\\n",
      "0                     -0.732626                      0.703511   \n",
      "1                      0.100699                      0.808529   \n",
      "2                      0.640011                     -0.485366   \n",
      "3                      0.693578                     -0.615971   \n",
      "4                      0.275041                     -0.368224   \n",
      "\n",
      "  tXAxisAcc-AngleWRTGravity-1   tYAxisAcc-AngleWRTGravity-1    \\\n",
      "0                     -0.845092                      0.180261   \n",
      "1                     -0.849230                      0.180610   \n",
      "2                     -0.848947                      0.181907   \n",
      "3                     -0.848164                      0.185124   \n",
      "4                     -0.849927                      0.184795   \n",
      "\n",
      "  tZAxisAcc-AngleWRTGravity-1   Posture  \n",
      "0                     -0.047436       5  \n",
      "1                     -0.042271       5  \n",
      "2                     -0.040826       5  \n",
      "3                     -0.037080       5  \n",
      "4                     -0.035326       5  \n",
      "\n",
      "[5 rows x 562 columns]\n",
      "(7766, 562)\n",
      "      tBodyAcc-Mean-1               tBodyAcc-Mean-2                \\\n",
      "count                   7766.000000                   7766.000000   \n",
      "mean                       0.038758                     -0.000646   \n",
      "std                        0.102003                      0.099980   \n",
      "min                       -1.000000                     -1.000000   \n",
      "25%                        0.032034                     -0.011212   \n",
      "50%                        0.038972                     -0.002920   \n",
      "75%                        0.044002                      0.004305   \n",
      "max                        1.000000                      1.000000   \n",
      "\n",
      "      tBodyAcc-Mean-3               tBodyAcc-STD-1                 \\\n",
      "count                   7766.000000                   7766.000000   \n",
      "mean                      -0.018153                     -0.598966   \n",
      "std                        0.089933                      0.441486   \n",
      "min                       -1.000000                     -1.000000   \n",
      "25%                       -0.028444                     -0.992136   \n",
      "50%                       -0.019602                     -0.914197   \n",
      "75%                       -0.011675                     -0.246003   \n",
      "max                        1.000000                      1.000000   \n",
      "\n",
      "      tBodyAcc-STD-2                tBodyAcc-STD-3                 \\\n",
      "count                   7766.000000                   7766.000000   \n",
      "mean                      -0.634378                     -0.691238   \n",
      "std                        0.367560                      0.321650   \n",
      "min                       -1.000000                     -1.000000   \n",
      "25%                       -0.983565                     -0.984661   \n",
      "50%                       -0.827854                     -0.827678   \n",
      "75%                       -0.313044                     -0.450409   \n",
      "max                        0.945956                      1.000000   \n",
      "\n",
      "      tBodyAcc-Mad-1                tBodyAcc-Mad-2                 \\\n",
      "count                   7766.000000                   7766.000000   \n",
      "mean                      -0.623839                     -0.657841   \n",
      "std                        0.418119                      0.348007   \n",
      "min                       -1.000000                     -1.000000   \n",
      "25%                       -0.992901                     -0.984116   \n",
      "50%                       -0.924402                     -0.838483   \n",
      "75%                       -0.294901                     -0.362632   \n",
      "max                        1.000000                      0.960341   \n",
      "\n",
      "      tBodyAcc-Mad-3                tBodyAcc-Max-1                 ...  \\\n",
      "count                   7766.000000                   7766.000000  ...   \n",
      "mean                      -0.740127                     -0.360144  ...   \n",
      "std                        0.272626                      0.499267  ...   \n",
      "min                       -1.000000                     -1.000000  ...   \n",
      "25%                       -0.986661                     -0.795613  ...   \n",
      "50%                       -0.852609                     -0.717007  ...   \n",
      "75%                       -0.540520                      0.054178  ...   \n",
      "max                        1.000000                      1.000000  ...   \n",
      "\n",
      "      fBodyGyroJerkMag-Skewness-1   fBodyGyroJerkMag-Kurtosis-1    \\\n",
      "count                   7766.000000                   7766.000000   \n",
      "mean                      -0.316549                     -0.625121   \n",
      "std                        0.313920                      0.302599   \n",
      "min                       -1.000000                     -1.000000   \n",
      "25%                       -0.548140                     -0.843981   \n",
      "50%                       -0.354046                     -0.710044   \n",
      "75%                       -0.137433                     -0.503768   \n",
      "max                        0.938491                      0.911653   \n",
      "\n",
      "      tBodyAcc-AngleWRTGravity-1    tBodyAccJerk-AngleWRTGravity-  \\\n",
      "count                   7766.000000                   7766.000000   \n",
      "mean                       0.016791                      0.018469   \n",
      "std                        0.331344                      0.443568   \n",
      "min                       -0.976580                     -1.000000   \n",
      "25%                       -0.108206                     -0.261044   \n",
      "50%                        0.017646                      0.029077   \n",
      "75%                        0.167742                      0.314903   \n",
      "max                        1.000000                      1.000000   \n",
      "\n",
      "      tBodyGyro-AngleWRTGravity-1   tBodyGyroJerk-AngleWRTGravity  \\\n",
      "count                   7766.000000                   7766.000000   \n",
      "mean                       0.009300                     -0.005183   \n",
      "std                        0.601223                      0.477249   \n",
      "min                       -1.000000                     -1.000000   \n",
      "25%                       -0.470488                     -0.373655   \n",
      "50%                        0.001550                     -0.005382   \n",
      "75%                        0.497094                      0.352708   \n",
      "max                        0.998702                      0.991288   \n",
      "\n",
      "      tXAxisAcc-AngleWRTGravity-1   tYAxisAcc-AngleWRTGravity-1    \\\n",
      "count                   7766.000000                   7766.000000   \n",
      "mean                      -0.485890                      0.050293   \n",
      "std                        0.509295                      0.300882   \n",
      "min                       -1.000000                     -1.000000   \n",
      "25%                       -0.810868                     -0.047824   \n",
      "50%                       -0.706588                      0.176765   \n",
      "75%                       -0.488746                      0.246840   \n",
      "max                        1.000000                      0.482229   \n",
      "\n",
      "      tZAxisAcc-AngleWRTGravity-1        Posture  \n",
      "count                   7766.000000  7766.000000  \n",
      "mean                      -0.052888     3.934458  \n",
      "std                        0.276213     2.160276  \n",
      "min                       -0.987874     1.000000  \n",
      "25%                       -0.140561     2.000000  \n",
      "50%                        0.004658     4.000000  \n",
      "75%                        0.109509     5.000000  \n",
      "max                        1.000000    12.000000  \n",
      "\n",
      "[8 rows x 562 columns]\n"
     ],
     "output_type": "stream"
    }
   ],
   "source": [
    "print(train_df.head())\n",
    "print(train_df.shape)\n",
    "print(train_df.describe())\n",
    "\n"
   ],
   "metadata": {
    "collapsed": false,
    "pycharm": {
     "name": "#%%\n",
     "is_executing": false
    }
   }
  },
  {
   "cell_type": "markdown",
   "source": [
    "# Data visualisation\n"
   ],
   "metadata": {
    "collapsed": false,
    "pycharm": {
     "name": "#%% md\n"
    }
   }
  }
 ],
 "metadata": {
  "kernelspec": {
   "display_name": "Python 3",
   "language": "python",
   "name": "python3"
  },
  "language_info": {
   "codemirror_mode": {
    "name": "ipython",
    "version": 2
   },
   "file_extension": ".py",
   "mimetype": "text/x-python",
   "name": "python",
   "nbconvert_exporter": "python",
   "pygments_lexer": "ipython2",
   "version": "2.7.6"
  },
  "pycharm": {
   "stem_cell": {
    "cell_type": "raw",
    "source": [],
    "metadata": {
     "collapsed": false
    }
   }
  }
 },
 "nbformat": 4,
 "nbformat_minor": 0
}
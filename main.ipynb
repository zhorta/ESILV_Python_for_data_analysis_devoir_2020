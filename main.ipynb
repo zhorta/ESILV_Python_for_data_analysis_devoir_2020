{
 "cells": [
  {
   "cell_type": "code",
   "execution_count": 8,
   "outputs": [
    {
     "name": "stdout",
     "text": [
      "Requirement already satisfied: pandas in /Users/zoehorta/opt/anaconda3/lib/python3.7/site-packages (0.25.1)\r\n",
      "Requirement already satisfied: numpy>=1.13.3 in /Users/zoehorta/opt/anaconda3/lib/python3.7/site-packages (from pandas) (1.17.2)\r\n",
      "Requirement already satisfied: python-dateutil>=2.6.1 in /Users/zoehorta/opt/anaconda3/lib/python3.7/site-packages (from pandas) (2.8.0)\r\n",
      "Requirement already satisfied: pytz>=2017.2 in /Users/zoehorta/opt/anaconda3/lib/python3.7/site-packages (from pandas) (2019.3)\r\n",
      "Requirement already satisfied: six>=1.5 in /Users/zoehorta/opt/anaconda3/lib/python3.7/site-packages (from python-dateutil>=2.6.1->pandas) (1.12.0)\r\n"
     ],
     "output_type": "stream"
    }
   ],
   "source": [
    "import os\n",
    "!pip install pandas"
   ],
   "metadata": {
    "collapsed": false,
    "pycharm": {
     "name": "#%%\n",
     "is_executing": false
    }
   }
  },
  {
   "cell_type": "code",
   "execution_count": 9,
   "outputs": [],
   "source": [
    "import pandas as pd"
   ],
   "metadata": {
    "collapsed": false,
    "pycharm": {
     "name": "#%%\n",
     "is_executing": false
    }
   }
  },
  {
   "cell_type": "markdown",
   "source": [
    "# Importing the dataset (Smartphone-Based Recognition of Human Activities and Postural Transitions)"
   ],
   "metadata": {
    "collapsed": false
   }
  },
  {
   "cell_type": "code",
   "execution_count": 16,
   "outputs": [
    {
     "data": {
      "text/plain": "  tBodyAcc-Mean-1               tBodyAcc-Mean-2                \\\n0                      0.039480                     -0.002131   \n1                      0.039978                     -0.005153   \n2                      0.039785                     -0.011809   \n3                      0.038758                     -0.002289   \n4                      0.038988                      0.004109   \n\n  tBodyAcc-Mean-3               tBodyAcc-STD-1                 \\\n0                     -0.029067                     -0.998348   \n1                     -0.022651                     -0.995482   \n2                     -0.028916                     -0.996194   \n3                     -0.023863                     -0.998241   \n4                     -0.017340                     -0.997438   \n\n  tBodyAcc-STD-2                tBodyAcc-STD-3                 \\\n0                     -0.982945                     -0.971273   \n1                     -0.977314                     -0.984760   \n2                     -0.988569                     -0.993256   \n3                     -0.986774                     -0.993115   \n4                     -0.993485                     -0.996692   \n\n  tBodyAcc-Mad-1                tBodyAcc-Mad-2                 \\\n0                     -0.998702                     -0.983315   \n1                     -0.996415                     -0.975835   \n2                     -0.996994                     -0.988526   \n3                     -0.998216                     -0.986479   \n4                     -0.997522                     -0.993494   \n\n  tBodyAcc-Mad-3                tBodyAcc-Max-1                 ...  \\\n0                     -0.974000                     -0.802537  ...   \n1                     -0.985973                     -0.798477  ...   \n2                     -0.993135                     -0.798477  ...   \n3                     -0.993825                     -0.801982  ...   \n4                     -0.996916                     -0.801982  ...   \n\n  fBodyGyroJerkMag-Skewness-1   fBodyGyroJerkMag-Kurtosis-1    \\\n0                     -0.603199                     -0.860677   \n1                     -0.404427                     -0.761847   \n2                     -0.138373                     -0.491604   \n3                     -0.366214                     -0.702490   \n4                     -0.554902                     -0.844224   \n\n  tBodyAcc-AngleWRTGravity-1    tBodyAccJerk-AngleWRTGravity-  \\\n0                      0.053477                     -0.007435   \n1                     -0.118559                      0.177899   \n2                     -0.036788                     -0.012892   \n3                      0.123320                      0.122542   \n4                      0.082632                     -0.143439   \n\n  tBodyGyro-AngleWRTGravity-1   tBodyGyroJerk-AngleWRTGravity  \\\n0                     -0.732626                      0.703511   \n1                      0.100699                      0.808529   \n2                      0.640011                     -0.485366   \n3                      0.693578                     -0.615971   \n4                      0.275041                     -0.368224   \n\n  tXAxisAcc-AngleWRTGravity-1   tYAxisAcc-AngleWRTGravity-1    \\\n0                     -0.845092                      0.180261   \n1                     -0.849230                      0.180610   \n2                     -0.848947                      0.181907   \n3                     -0.848164                      0.185124   \n4                     -0.849927                      0.184795   \n\n  tZAxisAcc-AngleWRTGravity-1   Posture  \n0                     -0.047436       5  \n1                     -0.042271       5  \n2                     -0.040826       5  \n3                     -0.037080       5  \n4                     -0.035326       5  \n\n[5 rows x 562 columns]",
      "text/html": "<div>\n<style scoped>\n    .dataframe tbody tr th:only-of-type {\n        vertical-align: middle;\n    }\n\n    .dataframe tbody tr th {\n        vertical-align: top;\n    }\n\n    .dataframe thead tr th {\n        text-align: left;\n    }\n</style>\n<table border=\"1\" class=\"dataframe\">\n  <thead>\n    <tr>\n      <th></th>\n      <th>tBodyAcc-Mean-1</th>\n      <th>tBodyAcc-Mean-2</th>\n      <th>tBodyAcc-Mean-3</th>\n      <th>tBodyAcc-STD-1</th>\n      <th>tBodyAcc-STD-2</th>\n      <th>tBodyAcc-STD-3</th>\n      <th>tBodyAcc-Mad-1</th>\n      <th>tBodyAcc-Mad-2</th>\n      <th>tBodyAcc-Mad-3</th>\n      <th>tBodyAcc-Max-1</th>\n      <th>...</th>\n      <th>fBodyGyroJerkMag-Skewness-1</th>\n      <th>fBodyGyroJerkMag-Kurtosis-1</th>\n      <th>tBodyAcc-AngleWRTGravity-1</th>\n      <th>tBodyAccJerk-AngleWRTGravity-</th>\n      <th>tBodyGyro-AngleWRTGravity-1</th>\n      <th>tBodyGyroJerk-AngleWRTGravity</th>\n      <th>tXAxisAcc-AngleWRTGravity-1</th>\n      <th>tYAxisAcc-AngleWRTGravity-1</th>\n      <th>tZAxisAcc-AngleWRTGravity-1</th>\n      <th>Posture</th>\n    </tr>\n  </thead>\n  <tbody>\n    <tr>\n      <th>0</th>\n      <td>0.039480</td>\n      <td>-0.002131</td>\n      <td>-0.029067</td>\n      <td>-0.998348</td>\n      <td>-0.982945</td>\n      <td>-0.971273</td>\n      <td>-0.998702</td>\n      <td>-0.983315</td>\n      <td>-0.974000</td>\n      <td>-0.802537</td>\n      <td>...</td>\n      <td>-0.603199</td>\n      <td>-0.860677</td>\n      <td>0.053477</td>\n      <td>-0.007435</td>\n      <td>-0.732626</td>\n      <td>0.703511</td>\n      <td>-0.845092</td>\n      <td>0.180261</td>\n      <td>-0.047436</td>\n      <td>5</td>\n    </tr>\n    <tr>\n      <th>1</th>\n      <td>0.039978</td>\n      <td>-0.005153</td>\n      <td>-0.022651</td>\n      <td>-0.995482</td>\n      <td>-0.977314</td>\n      <td>-0.984760</td>\n      <td>-0.996415</td>\n      <td>-0.975835</td>\n      <td>-0.985973</td>\n      <td>-0.798477</td>\n      <td>...</td>\n      <td>-0.404427</td>\n      <td>-0.761847</td>\n      <td>-0.118559</td>\n      <td>0.177899</td>\n      <td>0.100699</td>\n      <td>0.808529</td>\n      <td>-0.849230</td>\n      <td>0.180610</td>\n      <td>-0.042271</td>\n      <td>5</td>\n    </tr>\n    <tr>\n      <th>2</th>\n      <td>0.039785</td>\n      <td>-0.011809</td>\n      <td>-0.028916</td>\n      <td>-0.996194</td>\n      <td>-0.988569</td>\n      <td>-0.993256</td>\n      <td>-0.996994</td>\n      <td>-0.988526</td>\n      <td>-0.993135</td>\n      <td>-0.798477</td>\n      <td>...</td>\n      <td>-0.138373</td>\n      <td>-0.491604</td>\n      <td>-0.036788</td>\n      <td>-0.012892</td>\n      <td>0.640011</td>\n      <td>-0.485366</td>\n      <td>-0.848947</td>\n      <td>0.181907</td>\n      <td>-0.040826</td>\n      <td>5</td>\n    </tr>\n    <tr>\n      <th>3</th>\n      <td>0.038758</td>\n      <td>-0.002289</td>\n      <td>-0.023863</td>\n      <td>-0.998241</td>\n      <td>-0.986774</td>\n      <td>-0.993115</td>\n      <td>-0.998216</td>\n      <td>-0.986479</td>\n      <td>-0.993825</td>\n      <td>-0.801982</td>\n      <td>...</td>\n      <td>-0.366214</td>\n      <td>-0.702490</td>\n      <td>0.123320</td>\n      <td>0.122542</td>\n      <td>0.693578</td>\n      <td>-0.615971</td>\n      <td>-0.848164</td>\n      <td>0.185124</td>\n      <td>-0.037080</td>\n      <td>5</td>\n    </tr>\n    <tr>\n      <th>4</th>\n      <td>0.038988</td>\n      <td>0.004109</td>\n      <td>-0.017340</td>\n      <td>-0.997438</td>\n      <td>-0.993485</td>\n      <td>-0.996692</td>\n      <td>-0.997522</td>\n      <td>-0.993494</td>\n      <td>-0.996916</td>\n      <td>-0.801982</td>\n      <td>...</td>\n      <td>-0.554902</td>\n      <td>-0.844224</td>\n      <td>0.082632</td>\n      <td>-0.143439</td>\n      <td>0.275041</td>\n      <td>-0.368224</td>\n      <td>-0.849927</td>\n      <td>0.184795</td>\n      <td>-0.035326</td>\n      <td>5</td>\n    </tr>\n  </tbody>\n</table>\n<p>5 rows × 562 columns</p>\n</div>"
     },
     "metadata": {},
     "output_type": "execute_result",
     "execution_count": 16
    }
   ],
   "source": [
    "train_df = pd.read_table(\"resources/HAPT Data Set/Train/X_train.txt\", delimiter=\" \")\n",
    "with open('resources/HAPT Data Set/features.txt', 'r') as f:\n",
    "    names = f.readlines()\n",
    "columns_names = []\n",
    "for name in names: # removes \" \\n\" at the end of the column's name\n",
    "    name = name[:-3]\n",
    "    columns_names.append(name)\n",
    "    \n",
    "train_df.columns = [columns_names]\n",
    "train_df[\"Posture\"] = pd.read_table(\"resources/HAPT Data Set/Train/y_train.txt\")\n",
    "train_df.head()"
   ],
   "metadata": {
    "collapsed": false,
    "pycharm": {
     "name": "#%%\n",
     "is_executing": false
    }
   }
  },
  {
   "cell_type": "code",
   "execution_count": 18,
   "outputs": [
    {
     "data": {
      "text/plain": "(7766, 562)"
     },
     "metadata": {},
     "output_type": "execute_result",
     "execution_count": 18
    }
   ],
   "source": [
    "train_df.shape\n"
   ],
   "metadata": {
    "collapsed": false,
    "pycharm": {
     "name": "#%%\n",
     "is_executing": false
    }
   }
  }
 ],
 "metadata": {
  "kernelspec": {
   "display_name": "Python 3",
   "language": "python",
   "name": "python3"
  },
  "language_info": {
   "codemirror_mode": {
    "name": "ipython",
    "version": 2
   },
   "file_extension": ".py",
   "mimetype": "text/x-python",
   "name": "python",
   "nbconvert_exporter": "python",
   "pygments_lexer": "ipython2",
   "version": "2.7.6"
  },
  "pycharm": {
   "stem_cell": {
    "cell_type": "raw",
    "source": [],
    "metadata": {
     "collapsed": false
    }
   }
  }
 },
 "nbformat": 4,
 "nbformat_minor": 0
}
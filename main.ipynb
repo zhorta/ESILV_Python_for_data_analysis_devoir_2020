{
 "cells": [
  {
   "cell_type": "code",
   "execution_count": 11,
   "outputs": [
    {
     "name": "stdout",
     "text": [
      "Requirement already satisfied: pandas in /Users/zoehorta/opt/anaconda3/lib/python3.7/site-packages (0.25.1)\r\n",
      "Requirement already satisfied: pytz>=2017.2 in /Users/zoehorta/opt/anaconda3/lib/python3.7/site-packages (from pandas) (2019.3)\r\n",
      "Requirement already satisfied: python-dateutil>=2.6.1 in /Users/zoehorta/opt/anaconda3/lib/python3.7/site-packages (from pandas) (2.8.0)\r\n",
      "Requirement already satisfied: numpy>=1.13.3 in /Users/zoehorta/opt/anaconda3/lib/python3.7/site-packages (from pandas) (1.17.2)\r\n",
      "Requirement already satisfied: six>=1.5 in /Users/zoehorta/opt/anaconda3/lib/python3.7/site-packages (from python-dateutil>=2.6.1->pandas) (1.12.0)\r\n",
      "Requirement already satisfied: matplotlib in /Users/zoehorta/opt/anaconda3/lib/python3.7/site-packages (3.1.1)\r\n",
      "Requirement already satisfied: cycler>=0.10 in /Users/zoehorta/opt/anaconda3/lib/python3.7/site-packages (from matplotlib) (0.10.0)\r\n",
      "Requirement already satisfied: kiwisolver>=1.0.1 in /Users/zoehorta/opt/anaconda3/lib/python3.7/site-packages (from matplotlib) (1.1.0)\r\n",
      "Requirement already satisfied: pyparsing!=2.0.4,!=2.1.2,!=2.1.6,>=2.0.1 in /Users/zoehorta/opt/anaconda3/lib/python3.7/site-packages (from matplotlib) (2.4.2)\r\n",
      "Requirement already satisfied: python-dateutil>=2.1 in /Users/zoehorta/opt/anaconda3/lib/python3.7/site-packages (from matplotlib) (2.8.0)\r\n",
      "Requirement already satisfied: numpy>=1.11 in /Users/zoehorta/opt/anaconda3/lib/python3.7/site-packages (from matplotlib) (1.17.2)\r\n",
      "Requirement already satisfied: six in /Users/zoehorta/opt/anaconda3/lib/python3.7/site-packages (from cycler>=0.10->matplotlib) (1.12.0)\r\n",
      "Requirement already satisfied: setuptools in /Users/zoehorta/opt/anaconda3/lib/python3.7/site-packages (from kiwisolver>=1.0.1->matplotlib) (41.4.0)\r\n"
     ],
     "output_type": "stream"
    }
   ],
   "source": [
    "import os\n",
    "!pip install pandas\n",
    "!pip install matplotlib"
   ],
   "metadata": {
    "collapsed": false,
    "pycharm": {
     "name": "#%%\n",
     "is_executing": false
    }
   }
  },
  {
   "cell_type": "code",
   "execution_count": 24,
   "outputs": [],
   "source": [
    "import pandas as pd\n",
    "import matplotlib\n",
    "import sklearn\n",
    "from sklearn import linear_model\n",
    "from sklearn import discriminant_analysis\n",
    "from sklearn import neighbors\n",
    "from sklearn import tree\n",
    "from sklearn import naive_bayes\n",
    "from sklearn import svm\n",
    "from sklearn.model_selection import train_test_split\n",
    "from sklearn.metrics import accuracy_score\n"
   ],
   "metadata": {
    "collapsed": false,
    "pycharm": {
     "name": "#%%\n",
     "is_executing": false
    }
   }
  },
  {
   "cell_type": "markdown",
   "source": [
    "# Importing the dataset (Smartphone-Based Recognition of Human Activities and Postural Transitions)"
   ],
   "metadata": {
    "collapsed": false
   }
  },
  {
   "cell_type": "code",
   "execution_count": 13,
   "outputs": [],
   "source": [
    "with open('resources/HAPT Data Set/features.txt', 'r') as f:\n",
    "    names = f.readlines()\n",
    "columns_names = []\n",
    "for name in names: # removes \" \\n\" at the end of the column's name\n",
    "    name = name.strip()\n",
    "    columns_names.append(name)\n"
   ],
   "metadata": {
    "collapsed": false,
    "pycharm": {
     "name": "#%%\n",
     "is_executing": false
    }
   }
  },
  {
   "cell_type": "markdown",
   "source": [
    "## Cleaning the columns' names\n",
    "\n",
    "When I tried to add the columns_name array as a parameter of the X_train DataFrame, an error occurred. \"ValueError: Duplicate names are not allowed.\" So I made a for loop that would fill a \"pairs\" array with the columns' names that appear more than once, to know which column's name needs to be modified."
   ],
   "metadata": {
    "collapsed": false,
    "pycharm": {
     "name": "#%% md\n"
    }
   }
  },
  {
   "cell_type": "code",
   "execution_count": 14,
   "outputs": [],
   "source": [
    "names_array = []\n",
    "pairs = []\n",
    "\n",
    "for name in columns_names:\n",
    "    if name not in names_array:\n",
    "        names_array.append(name)\n",
    "    elif name not in pairs:\n",
    "        pairs.append(name)\n",
    "    else:\n",
    "        pass\n",
    "\n",
    "def change_end(end_of_name, keep):\n",
    "    i = 2\n",
    "    name_before = ''\n",
    "    beginning_of_name = ''\n",
    "    for j in range(len(columns_names)):\n",
    "        if columns_names[j].endswith(end_of_name):\n",
    "            beginning_of_name = columns_names[j].split(\"-\")[0]\n",
    "            if beginning_of_name == name_before:\n",
    "                columns_names[j] = columns_names[j].replace(end_of_name, keep + str(i))\n",
    "                i += 1\n",
    "                name_before = beginning_of_name\n",
    "            else:\n",
    "                name_before = beginning_of_name\n",
    "                i = 2\n",
    "    \n",
    "def change_end_bis(entire_name):\n",
    "    i = 1\n",
    "    while i < 4:\n",
    "        for j in range(len(columns_names)):\n",
    "            if columns_names[j] == entire_name:\n",
    "                columns_names[j] = columns_names[j].replace(columns_names[j][-1], str(i))\n",
    "                i += 1\n",
    "\n",
    "change_end('ropy-1', 'ropy-')\n",
    "change_end_bis('fBodyAcc-Skewness-1')\n",
    "change_end_bis('fBodyAcc-Kurtosis-1')\n",
    "change_end_bis('fBodyAccJerk-Skewness-1')\n",
    "change_end_bis('fBodyAccJerk-Kurtosis-1')\n",
    "change_end_bis('fBodyGyro-Skewness-1')\n",
    "change_end_bis('fBodyGyro-Kurtosis-1')"
   ],
   "metadata": {
    "collapsed": false,
    "pycharm": {
     "name": "#%%\n",
     "is_executing": false
    }
   }
  },
  {
   "cell_type": "markdown",
   "source": [
    "## Importing the dataset (the end)"
   ],
   "metadata": {
    "collapsed": false
   }
  },
  {
   "cell_type": "code",
   "execution_count": 15,
   "outputs": [],
   "source": [
    "X_train = pd.read_table(\"resources/HAPT Data Set/Train/X_train.txt\", delimiter=\" \", names=columns_names)\n",
    "Y_train = pd.read_table(\"resources/HAPT Data Set/Train/y_train.txt\", names=['Posture'])\n",
    "\n",
    "X_test = pd.read_table(\"resources/HAPT Data Set/Test/X_test.txt\", delimiter=\" \", names=columns_names)\n",
    "Y_test = pd.read_table(\"resources/HAPT Data Set/Test/y_test.txt\", names=['Posture'])\n",
    "# train_df = pd.read_table(\"resources/HAPT Data Set/Train/X_train.txt\", delimiter=\" \")\n",
    "# train_df.columns = [columns_names]\n",
    "# train_df[\"Posture\"] = pd.read_table(\"resources/HAPT Data Set/Train/y_train.txt\")\n"
   ],
   "metadata": {
    "collapsed": false,
    "pycharm": {
     "name": "#%%\n",
     "is_executing": false
    }
   }
  },
  {
   "cell_type": "markdown",
   "source": [
    "## Looking at the data"
   ],
   "metadata": {
    "collapsed": false,
    "pycharm": {
     "name": "#%% md\n"
    }
   }
  },
  {
   "cell_type": "code",
   "execution_count": 16,
   "outputs": [
    {
     "name": "stdout",
     "text": [
      "Head of X_train:\n",
      "   tBodyAcc-Mean-1  tBodyAcc-Mean-2  tBodyAcc-Mean-3  tBodyAcc-STD-1  \\\n",
      "0         0.043580        -0.005970        -0.035054       -0.995381   \n",
      "1         0.039480        -0.002131        -0.029067       -0.998348   \n",
      "2         0.039978        -0.005153        -0.022651       -0.995482   \n",
      "3         0.039785        -0.011809        -0.028916       -0.996194   \n",
      "4         0.038758        -0.002289        -0.023863       -0.998241   \n",
      "\n",
      "   tBodyAcc-STD-2  tBodyAcc-STD-3  tBodyAcc-Mad-1  tBodyAcc-Mad-2  \\\n",
      "0       -0.988366       -0.937382       -0.995007       -0.988816   \n",
      "1       -0.982945       -0.971273       -0.998702       -0.983315   \n",
      "2       -0.977314       -0.984760       -0.996415       -0.975835   \n",
      "3       -0.988569       -0.993256       -0.996994       -0.988526   \n",
      "4       -0.986774       -0.993115       -0.998216       -0.986479   \n",
      "\n",
      "   tBodyAcc-Mad-3  tBodyAcc-Max-1  ...  fBodyGyroJerkMag-MeanFreq-1  \\\n",
      "0       -0.953325       -0.794796  ...                    -0.012236   \n",
      "1       -0.974000       -0.802537  ...                     0.202804   \n",
      "2       -0.985973       -0.798477  ...                     0.440079   \n",
      "3       -0.993135       -0.798477  ...                     0.430891   \n",
      "4       -0.993825       -0.801982  ...                     0.137735   \n",
      "\n",
      "   fBodyGyroJerkMag-Skewness-1  fBodyGyroJerkMag-Kurtosis-1  \\\n",
      "0                    -0.314848                    -0.713308   \n",
      "1                    -0.603199                    -0.860677   \n",
      "2                    -0.404427                    -0.761847   \n",
      "3                    -0.138373                    -0.491604   \n",
      "4                    -0.366214                    -0.702490   \n",
      "\n",
      "   tBodyAcc-AngleWRTGravity-1  tBodyAccJerk-AngleWRTGravity-1  \\\n",
      "0                   -0.112754                        0.030400   \n",
      "1                    0.053477                       -0.007435   \n",
      "2                   -0.118559                        0.177899   \n",
      "3                   -0.036788                       -0.012892   \n",
      "4                    0.123320                        0.122542   \n",
      "\n",
      "   tBodyGyro-AngleWRTGravity-1  tBodyGyroJerk-AngleWRTGravity-1  \\\n",
      "0                    -0.464761                        -0.018446   \n",
      "1                    -0.732626                         0.703511   \n",
      "2                     0.100699                         0.808529   \n",
      "3                     0.640011                        -0.485366   \n",
      "4                     0.693578                        -0.615971   \n",
      "\n",
      "   tXAxisAcc-AngleWRTGravity-1  tYAxisAcc-AngleWRTGravity-1  \\\n",
      "0                    -0.841559                     0.179913   \n",
      "1                    -0.845092                     0.180261   \n",
      "2                    -0.849230                     0.180610   \n",
      "3                    -0.848947                     0.181907   \n",
      "4                    -0.848164                     0.185124   \n",
      "\n",
      "   tZAxisAcc-AngleWRTGravity-1  \n",
      "0                    -0.051718  \n",
      "1                    -0.047436  \n",
      "2                    -0.042271  \n",
      "3                    -0.040826  \n",
      "4                    -0.037080  \n",
      "\n",
      "[5 rows x 561 columns]\n",
      "Shape of X_train: (7767, 561)\n",
      "Description of X_train:\n",
      "       tBodyAcc-Mean-1  tBodyAcc-Mean-2  tBodyAcc-Mean-3  tBodyAcc-STD-1  \\\n",
      "count      7767.000000      7767.000000      7767.000000     7767.000000   \n",
      "mean          0.038759        -0.000647        -0.018155       -0.599017   \n",
      "std           0.101996         0.099974         0.089927        0.441481   \n",
      "min          -1.000000        -1.000000        -1.000000       -1.000000   \n",
      "25%           0.032037        -0.011209        -0.028448       -0.992140   \n",
      "50%           0.038975        -0.002921        -0.019602       -0.914202   \n",
      "75%           0.044000         0.004303        -0.011676       -0.246026   \n",
      "max           1.000000         1.000000         1.000000        1.000000   \n",
      "\n",
      "       tBodyAcc-STD-2  tBodyAcc-STD-3  tBodyAcc-Mad-1  tBodyAcc-Mad-2  \\\n",
      "count     7767.000000     7767.000000     7767.000000     7767.000000   \n",
      "mean        -0.634424       -0.691270       -0.623886       -0.657884   \n",
      "std          0.367558        0.321641        0.418113        0.348005   \n",
      "min         -1.000000       -1.000000       -1.000000       -1.000000   \n",
      "25%         -0.983570       -0.984661       -0.992902       -0.984131   \n",
      "50%         -0.827970       -0.827696       -0.924421       -0.838559   \n",
      "75%         -0.313069       -0.450478       -0.294903       -0.362671   \n",
      "max          0.945956        1.000000        1.000000        0.960341   \n",
      "\n",
      "       tBodyAcc-Mad-3  tBodyAcc-Max-1  ...  fBodyGyroJerkMag-MeanFreq-1  \\\n",
      "count     7767.000000     7767.000000  ...                  7767.000000   \n",
      "mean        -0.740154       -0.360200  ...                     0.161745   \n",
      "std          0.272619        0.499259  ...                     0.237319   \n",
      "min         -1.000000       -1.000000  ...                    -0.958535   \n",
      "25%         -0.986661       -0.795613  ...                     0.020312   \n",
      "50%         -0.852735       -0.717007  ...                     0.170819   \n",
      "75%         -0.540521        0.054178  ...                     0.316240   \n",
      "max          1.000000        1.000000  ...                     1.000000   \n",
      "\n",
      "       fBodyGyroJerkMag-Skewness-1  fBodyGyroJerkMag-Kurtosis-1  \\\n",
      "count                  7767.000000                  7767.000000   \n",
      "mean                     -0.316548                    -0.625132   \n",
      "std                       0.313899                     0.302581   \n",
      "min                      -1.000000                    -1.000000   \n",
      "25%                      -0.548129                    -0.843966   \n",
      "50%                      -0.353980                    -0.710071   \n",
      "75%                      -0.137462                    -0.503837   \n",
      "max                       0.938491                     0.911653   \n",
      "\n",
      "       tBodyAcc-AngleWRTGravity-1  tBodyAccJerk-AngleWRTGravity-1  \\\n",
      "count                 7767.000000                     7767.000000   \n",
      "mean                     0.016774                        0.018471   \n",
      "std                      0.331326                        0.443540   \n",
      "min                     -0.976580                       -1.000000   \n",
      "25%                     -0.108225                       -0.261002   \n",
      "50%                      0.017627                        0.029079   \n",
      "75%                      0.167695                        0.314876   \n",
      "max                      1.000000                        1.000000   \n",
      "\n",
      "       tBodyGyro-AngleWRTGravity-1  tBodyGyroJerk-AngleWRTGravity-1  \\\n",
      "count                  7767.000000                      7767.000000   \n",
      "mean                      0.009239                        -0.005184   \n",
      "std                       0.601208                         0.477218   \n",
      "min                      -1.000000                        -1.000000   \n",
      "25%                      -0.470267                        -0.373565   \n",
      "50%                       0.001515                        -0.005503   \n",
      "75%                       0.496871                         0.352690   \n",
      "max                       0.998702                         0.991288   \n",
      "\n",
      "       tXAxisAcc-AngleWRTGravity-1  tYAxisAcc-AngleWRTGravity-1  \\\n",
      "count                  7767.000000                  7767.000000   \n",
      "mean                     -0.485936                     0.050310   \n",
      "std                       0.509278                     0.300866   \n",
      "min                      -1.000000                    -1.000000   \n",
      "25%                      -0.810953                    -0.047752   \n",
      "50%                      -0.706619                     0.176777   \n",
      "75%                      -0.488765                     0.246834   \n",
      "max                       1.000000                     0.482229   \n",
      "\n",
      "       tZAxisAcc-AngleWRTGravity-1  \n",
      "count                  7767.000000  \n",
      "mean                     -0.052888  \n",
      "std                       0.276196  \n",
      "min                      -0.987874  \n",
      "25%                      -0.140560  \n",
      "50%                       0.004583  \n",
      "75%                       0.109507  \n",
      "max                       1.000000  \n",
      "\n",
      "[8 rows x 561 columns]\n",
      "Null values are contained in the DataFrame? False\n"
     ],
     "output_type": "stream"
    }
   ],
   "source": [
    "print(\"Head of X_train:\\n{}\".format(X_train.head())) # shows the first 5 rows of the DataFrame\n",
    "print(\"Shape of X_train: {}\".format(X_train.shape)) # gives the dimensions of the DataFrame\n",
    "print(\"Description of X_train:\\n{}\".format(X_train.describe())) # gives a statistical description of the DataFrame\n",
    "print(\"Null values are contained in the DataFrame? {}\".format(X_train.isnull().values.any())) # checks if the DataFrame contains null values."
   ],
   "metadata": {
    "collapsed": false,
    "pycharm": {
     "name": "#%%\n",
     "is_executing": false
    }
   }
  },
  {
   "cell_type": "markdown",
   "source": [
    "# Data visualisation"
   ],
   "metadata": {
    "collapsed": false,
    "pycharm": {
     "name": "#%% md\n"
    }
   }
  },
  {
   "cell_type": "code",
   "execution_count": 17,
   "outputs": [
    {
     "data": {
      "text/plain": "<Figure size 432x288 with 4 Axes>",
      "image/png": "[encoded data removed]"
     },
     "metadata": {
      "needs_background": "light"
     },
     "output_type": "display_data"
    },
    {
     "data": {
      "text/plain": "<Figure size 432x288 with 4 Axes>",
      "image/png": "[encoded data removed]"
     },
     "metadata": {
      "needs_background": "light"
     },
     "output_type": "display_data"
    }
   ],
   "source": [
    "X_train.loc[:, ['tBodyAcc-Mean-1', 'tBodyAcc-Mean-2', 'tBodyAcc-Mean-3']].hist()\n",
    "X_train.loc[:, ['tBodyAcc-STD-1', 'tBodyAcc-STD-2', 'tBodyAcc-STD-3']].hist()\n",
    "#pd.plotting.scatter_matrix(X_train)\n",
    "matplotlib.pyplot.show()"
   ],
   "metadata": {
    "collapsed": false,
    "pycharm": {
     "name": "#%%\n",
     "is_executing": false
    }
   }
  },
  {
   "cell_type": "markdown",
   "source": [
    "# Models\n",
    "\n",
    "Here, we are working on the classification of the users' postures."
   ],
   "metadata": {
    "collapsed": false,
    "pycharm": {
     "name": "#%% md\n"
    }
   }
  },
  {
   "cell_type": "code",
   "execution_count": 26,
   "outputs": [
    {
     "name": "stdout",
     "text": [
      "   Posture\n",
      "0        5\n",
      "1        5\n",
      "2        5\n",
      "3        5\n",
      "4        5\n",
      "Accuracy score for SVC: 0.9535104364326376\n",
      "Accuracy score for KNeighborsClassifier: 0.8848829854522454\n"
     ],
     "output_type": "stream"
    },
    {
     "name": "stderr",
     "text": [
      "/Library/Frameworks/Python.framework/Versions/3.7/lib/python3.7/site-packages/sklearn/utils/validation.py:760: DataConversionWarning: A column-vector y was passed when a 1d array was expected. Please change the shape of y to (n_samples, ), for example using ravel().\n",
      "  y = column_or_1d(y, warn=True)\n",
      "/Library/Frameworks/Python.framework/Versions/3.7/lib/python3.7/site-packages/ipykernel_launcher.py:14: DataConversionWarning: A column-vector y was passed when a 1d array was expected. Please change the shape of y to (n_samples, ), for example using ravel().\n",
      "  \n"
     ],
     "output_type": "stream"
    }
   ],
   "source": [
    "# models = [('LR', linear_model.LogisticRegression(solver='liblinear', multi_class='ovr')), \n",
    "#           ('LDA', discriminant_analysis.LinearDiscriminantAnalysis()), \n",
    "#           ('KNN', neighbors.KNeighborsClassifier()), \n",
    "#           ('CART', tree.DecisionTreeClassifier()), \n",
    "#           ('NB', naive_bayes.GaussianNB()), \n",
    "#           ('SVM', svm.SVC(gamma='auto'))]\n",
    "clf = svm.SVC(gamma=0.001, C=100.) # clf = classifier\n",
    "print(Y_train.head())\n",
    "clf.fit(X_train, Y_train)\n",
    "Y_svc_pred = clf.predict(X_test)\n",
    "print(\"Accuracy score for SVC: {}\".format(accuracy_score(Y_test, Y_svc_pred)))\n",
    "\n",
    "knn = neighbors.KNeighborsClassifier()\n",
    "knn.fit(X_train, Y_train)\n",
    "Y_knc_pred = knn.predict(X_test)\n",
    "print(\"Accuracy score for KNeighborsClassifier: {}\".format(accuracy_score(Y_test, Y_knc_pred)))"
   ],
   "metadata": {
    "collapsed": false,
    "pycharm": {
     "name": "#%%\n",
     "is_executing": false
    }
   }
  },
  {
   "cell_type": "markdown",
   "source": [
    "## Evaluate the models"
   ],
   "metadata": {
    "collapsed": false,
    "pycharm": {
     "name": "#%% md\n"
    }
   }
  },
  {
   "cell_type": "code",
   "execution_count": 19,
   "outputs": [
    {
     "traceback": [
      "\u001b[0;31m---------------------------------------------------------------------------\u001b[0m",
      "\u001b[0;31mNameError\u001b[0m                                 Traceback (most recent call last)",
      "\u001b[0;32m<ipython-input-19-3abde1104101>\u001b[0m in \u001b[0;36m<module>\u001b[0;34m\u001b[0m\n\u001b[1;32m      2\u001b[0m \u001b[0mnames\u001b[0m \u001b[0;34m=\u001b[0m \u001b[0;34m[\u001b[0m\u001b[0;34m]\u001b[0m\u001b[0;34m\u001b[0m\u001b[0;34m\u001b[0m\u001b[0m\n\u001b[1;32m      3\u001b[0m \u001b[0;34m\u001b[0m\u001b[0m\n\u001b[0;32m----> 4\u001b[0;31m \u001b[0;32mfor\u001b[0m \u001b[0mname\u001b[0m\u001b[0;34m,\u001b[0m \u001b[0mmodel\u001b[0m \u001b[0;32min\u001b[0m \u001b[0mmodels\u001b[0m\u001b[0;34m:\u001b[0m\u001b[0;34m\u001b[0m\u001b[0;34m\u001b[0m\u001b[0m\n\u001b[0m\u001b[1;32m      5\u001b[0m     \u001b[0mkfold\u001b[0m \u001b[0;34m=\u001b[0m \u001b[0msklearn\u001b[0m\u001b[0;34m.\u001b[0m\u001b[0mmodel_selection\u001b[0m\u001b[0;34m.\u001b[0m\u001b[0mStratifiedKFold\u001b[0m\u001b[0;34m(\u001b[0m\u001b[0mn_splits\u001b[0m\u001b[0;34m=\u001b[0m\u001b[0;36m10\u001b[0m\u001b[0;34m,\u001b[0m \u001b[0mrandom_state\u001b[0m\u001b[0;34m=\u001b[0m\u001b[0;36m1\u001b[0m\u001b[0;34m,\u001b[0m \u001b[0mshuffle\u001b[0m\u001b[0;34m=\u001b[0m\u001b[0;32mTrue\u001b[0m\u001b[0;34m)\u001b[0m\u001b[0;34m\u001b[0m\u001b[0;34m\u001b[0m\u001b[0m\n\u001b[1;32m      6\u001b[0m     \u001b[0mcv_results\u001b[0m \u001b[0;34m=\u001b[0m \u001b[0msklearn\u001b[0m\u001b[0;34m.\u001b[0m\u001b[0mmodel_selection\u001b[0m\u001b[0;34m.\u001b[0m\u001b[0mcross_val_score\u001b[0m\u001b[0;34m(\u001b[0m\u001b[0mmodel\u001b[0m\u001b[0;34m,\u001b[0m \u001b[0mX_train\u001b[0m\u001b[0;34m[\u001b[0m\u001b[0;34m:\u001b[0m\u001b[0;36m50\u001b[0m\u001b[0;34m]\u001b[0m\u001b[0;34m,\u001b[0m \u001b[0mY_train\u001b[0m\u001b[0;34m[\u001b[0m\u001b[0;34m:\u001b[0m\u001b[0;36m50\u001b[0m\u001b[0;34m]\u001b[0m\u001b[0;34m,\u001b[0m \u001b[0mcv\u001b[0m\u001b[0;34m=\u001b[0m\u001b[0mkfold\u001b[0m\u001b[0;34m,\u001b[0m \u001b[0mscoring\u001b[0m\u001b[0;34m=\u001b[0m\u001b[0;34m'accuracy'\u001b[0m\u001b[0;34m)\u001b[0m\u001b[0;34m\u001b[0m\u001b[0;34m\u001b[0m\u001b[0m\n",
      "\u001b[0;31mNameError\u001b[0m: name 'models' is not defined"
     ],
     "ename": "NameError",
     "evalue": "name 'models' is not defined",
     "output_type": "error"
    }
   ],
   "source": [
    "results = []\n",
    "names = []\n",
    "\n",
    "for name, model in models:\n",
    "    kfold = sklearn.model_selection.StratifiedKFold(n_splits=10, random_state=1, shuffle=True)\n",
    "    cv_results = sklearn.model_selection.cross_val_score(model, X_train[:50], Y_train[:50], cv=kfold, scoring='accuracy')\n",
    "    results.append(cv_results)\n",
    "    names.append(name)\n",
    "    print('%s: %f (%f)' % (name, cv_results.mean(), cv_results.std()))"
   ],
   "metadata": {
    "collapsed": false,
    "pycharm": {
     "name": "#%%\n",
     "is_executing": false
    }
   }
  }
 ],
 "metadata": {
  "kernelspec": {
   "display_name": "Python 3",
   "language": "python",
   "name": "python3"
  },
  "language_info": {
   "codemirror_mode": {
    "name": "ipython",
    "version": 2
   },
   "file_extension": ".py",
   "mimetype": "text/x-python",
   "name": "python",
   "nbconvert_exporter": "python",
   "pygments_lexer": "ipython2",
   "version": "2.7.6"
  },
  "pycharm": {
   "stem_cell": {
    "cell_type": "raw",
    "source": [],
    "metadata": {
     "collapsed": false
    }
   }
  }
 },
 "nbformat": 4,
 "nbformat_minor": 0
}